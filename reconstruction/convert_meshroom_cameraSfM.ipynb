{
 "cells": [
  {
   "cell_type": "code",
   "execution_count": 1,
   "metadata": {},
   "outputs": [
    {
     "name": "stdout",
     "output_type": "stream",
     "text": [
      "Jupyter environment detected. Enabling Open3D WebVisualizer.\n",
      "[Open3D INFO] WebRTC GUI backend enabled.\n",
      "[Open3D INFO] WebRTCWindowSystem: HTTP handshake server disabled.\n"
     ]
    }
   ],
   "source": [
    "import numpy as np\n",
    "import json\n",
    "import open3d as o3d\n",
    "import cv2"
   ]
  },
  {
   "cell_type": "markdown",
   "metadata": {},
   "source": [
    "Define file paths"
   ]
  },
  {
   "cell_type": "code",
   "execution_count": 2,
   "metadata": {},
   "outputs": [],
   "source": [
    "camera_SfM_file_path = \"./dataset/iPhone13/red_bird/meshroom_files/downsampled_posed/MeshroomCache/CameraInit/049aac57725050535eaee341be36ed133ab0a54e/cameraInit.sfm\"\n",
    "pose_path = \"./poses_full_FPS.npy\"\n",
    "absolute_pose_save_folder = \"./dataset/iPhone13/red_bird/downsampled_160/absolute_poses/\"\n",
    "camera_calibration_file_path = \"./Camera/MeshroomCache/CameraCalibration/iPhone13_short/cameraCalibration.cal\""
   ]
  },
  {
   "cell_type": "markdown",
   "metadata": {},
   "source": [
    "Load all files"
   ]
  },
  {
   "cell_type": "code",
   "execution_count": 3,
   "metadata": {},
   "outputs": [],
   "source": [
    "P_relative = np.load(pose_path) #! notice that # relative poses is 1 less than # images since it's relative\n",
    "\n",
    "camera_SfM_file = open(camera_SfM_file_path)\n",
    "camera_SfM = json.load(camera_SfM_file)\n",
    "camera_SfM_file.close()\n",
    "\n",
    "if \"featuresFolders\" in camera_SfM.keys(): # clear \"featuresFolders\"\n",
    "    del camera_SfM[\"featuresFolders\"]\n",
    "if \"matchesFolders\" in camera_SfM.keys(): # clear \"matchesFolders\"\n",
    "    del camera_SfM[\"matchesFolders\"]\n",
    "\n",
    "cv_file = cv2.FileStorage(camera_calibration_file_path, cv2.FILE_STORAGE_READ)\n",
    "camera_matrix = cv_file.getNode(\"camera_matrix\").mat()\n",
    "distortion_coefficients = cv_file.getNode(\"distortion_coefficients\").mat()"
   ]
  },
  {
   "cell_type": "code",
   "execution_count": 4,
   "metadata": {},
   "outputs": [
    {
     "data": {
      "text/plain": [
       "[{'intrinsicId': '2342914704',\n",
       "  'width': '1920',\n",
       "  'height': '1080',\n",
       "  'sensorWidth': '3.2639999999999998',\n",
       "  'sensorHeight': '1.8360000000000001',\n",
       "  'serialNumber': 'C:/code/COMP_6411B_project/dataset/red_bird_recon',\n",
       "  'type': 'radial3',\n",
       "  'initializationMode': 'calibrated',\n",
       "  'pxInitialFocalLength': '-1',\n",
       "  'pxFocalLength': '1690.2600790399999',\n",
       "  'principalPoint': ['960', '540'],\n",
       "  'distortionParams': ['0.26674296678939358',\n",
       "   '-2.0576918629273293',\n",
       "   '5.4594297795400708'],\n",
       "  'locked': '1'}]"
      ]
     },
     "execution_count": 4,
     "metadata": {},
     "output_type": "execute_result"
    }
   ],
   "source": [
    "if \"poses\" in camera_SfM.keys(): # clear previously estimated poses\n",
    "    camera_SfM[\"poses\"].clear()\n",
    "else:\n",
    "    camera_SfM[\"poses\"] = []\n",
    "\n",
    "camera_SfM[\"intrinsics\"]"
   ]
  },
  {
   "cell_type": "code",
   "execution_count": 5,
   "metadata": {},
   "outputs": [
    {
     "name": "stdout",
     "output_type": "stream",
     "text": [
      "(2402, 4, 4) [[[ 1.00000000e+00  0.00000000e+00  0.00000000e+00  0.00000000e+00]\n",
      "  [ 0.00000000e+00  1.00000000e+00  0.00000000e+00  0.00000000e+00]\n",
      "  [ 0.00000000e+00  0.00000000e+00  1.00000000e+00  0.00000000e+00]\n",
      "  [ 0.00000000e+00  0.00000000e+00  0.00000000e+00  1.00000000e+00]]\n",
      "\n",
      " [[ 9.99999821e-01 -4.40049742e-04  3.76163982e-04 -3.31519841e-04]\n",
      "  [ 4.40312258e-04  9.99999642e-01 -7.44890829e-04  1.71439344e-04]\n",
      "  [-3.75856645e-04  7.45046011e-04  9.99999702e-01 -1.96205843e-02]\n",
      "  [ 0.00000000e+00  0.00000000e+00  0.00000000e+00  1.00000000e+00]]\n",
      "\n",
      " [[ 9.99999289e-01 -9.50157709e-04  7.18608922e-04 -6.90463354e-04]\n",
      "  [ 9.51008439e-04  9.99998835e-01 -1.20743154e-03  2.92783677e-04]\n",
      "  [-7.17479684e-04  1.20810498e-03  9.99999050e-01 -3.85755332e-02]\n",
      "  [ 0.00000000e+00  0.00000000e+00  0.00000000e+00  1.00000000e+00]]\n",
      "\n",
      " ...\n",
      "\n",
      " [[-8.87806779e-01  3.21262506e-01  3.29509693e-01 -4.66399961e+00]\n",
      "  [ 3.59153709e-01  9.31370640e-01  5.96199825e-02  7.13556791e+00]\n",
      "  [-2.87741993e-01  1.71275649e-01 -9.42261974e-01 -6.03336147e+00]\n",
      "  [ 0.00000000e+00  0.00000000e+00  0.00000000e+00  1.00000000e+00]]\n",
      "\n",
      " [[-8.91356933e-01  3.23475666e-01  3.17542787e-01 -4.73732998e+00]\n",
      "  [ 3.59399621e-01  9.31237343e-01  6.02169403e-02  7.14006915e+00]\n",
      "  [-2.76228985e-01  1.67799536e-01 -9.46324086e-01 -6.01186193e+00]\n",
      "  [ 0.00000000e+00  0.00000000e+00  0.00000000e+00  1.00000000e+00]]\n",
      "\n",
      " [[-8.94752898e-01  3.25636629e-01  3.05557086e-01 -4.81016759e+00]\n",
      "  [ 3.59610606e-01  9.31122713e-01  6.07274486e-02  7.14396691e+00]\n",
      "  [-2.64736053e-01  1.64217615e-01 -9.50229331e-01 -5.98932469e+00]\n",
      "  [ 0.00000000e+00  0.00000000e+00  0.00000000e+00  1.00000000e+00]]]\n"
     ]
    }
   ],
   "source": [
    "P_absolute = []\n",
    "\n",
    "# set & save absolute pose 1 to identity\n",
    "P_absolute_temp = np.eye(4)\n",
    "P_absolute.append(P_absolute_temp)\n",
    "# np.savetxt(absolute_pose_save_folder + \"absolute_pose_\" + str(1) + \".txt\", P_absolute_temp) # first pose saved here\n",
    "meshroom_pose = {}\n",
    "meshroom_pose[\"poseId\"] = str(1)\n",
    "meshroom_pose[\"pose\"] = {\"transform\" : {\n",
    "                                        \"rotation\" : [str(rot) for rot in P_absolute_temp[:3, :3].reshape(-1)],\n",
    "                                        \"center\" : [str(center) for center in P_absolute_temp[:3, 3:].reshape(-1)]\n",
    "                                        },\n",
    "                        \"locked\" : \"1\"\n",
    "                        }\n",
    "camera_SfM[\"poses\"].append(meshroom_pose)\n",
    "\n",
    "for i, P_temp in enumerate(P_relative):\n",
    "    P_absolute_temp = P_temp @ P_absolute_temp # temp absolute pose\n",
    "    np.savetxt(absolute_pose_save_folder + \"absolute_pose_\" + str(i + 2) + \".txt\", P_absolute_temp) # individual absolute poses saved here\n",
    "    P_absolute.append(P_absolute_temp)\n",
    "\n",
    "    meshroom_pose = {}\n",
    "    meshroom_pose[\"poseId\"] = str(i + 2)\n",
    "    meshroom_pose[\"pose\"] = {\"transform\" : {\n",
    "                                            \"rotation\" : [str(rot) for rot in P_absolute_temp[:3, :3].reshape(-1)],\n",
    "                                            \"center\" : [str(center) for center in P_absolute_temp[:3, 3:].reshape(-1)]\n",
    "                                            },\n",
    "                            \"locked\" : \"1\"\n",
    "                            }\n",
    "    camera_SfM[\"poses\"].append(meshroom_pose)\n",
    "\n",
    "P_absolute = np.array(P_absolute)\n",
    "np.save(absolute_pose_save_folder + \"absolute_poses_all.npy\", P_absolute) # all absolute poses saved here\n",
    "print(P_absolute.shape, P_absolute)"
   ]
  },
  {
   "cell_type": "code",
   "execution_count": 6,
   "metadata": {},
   "outputs": [
    {
     "data": {
      "text/plain": [
       "{'poseId': '3',\n",
       " 'pose': {'transform': {'rotation': ['0.999999289085659',\n",
       "    '-0.0009501577094205112',\n",
       "    '0.0007186089219897575',\n",
       "    '0.0009510084389061037',\n",
       "    '0.9999988345409397',\n",
       "    '-0.0012074315370358961',\n",
       "    '-0.0007174796842756918',\n",
       "    '0.0012081049835622557',\n",
       "    '0.9999990497633352'],\n",
       "   'center': ['-0.0006904633535795473',\n",
       "    '0.0002927836767280344',\n",
       "    '-0.03857553316356261']},\n",
       "  'locked': '1'}}"
      ]
     },
     "execution_count": 6,
     "metadata": {},
     "output_type": "execute_result"
    }
   ],
   "source": [
    "camera_SfM[\"poses\"][2]"
   ]
  },
  {
   "cell_type": "markdown",
   "metadata": {},
   "source": [
    "Save to cameras_posed.sfm"
   ]
  },
  {
   "cell_type": "code",
   "execution_count": 7,
   "metadata": {},
   "outputs": [],
   "source": [
    "with open(camera_SfM_file_path, 'w', encoding='utf-8') as f:\n",
    "    json.dump(camera_SfM, f, ensure_ascii=False, indent=4)"
   ]
  },
  {
   "cell_type": "markdown",
   "metadata": {},
   "source": [
    "Visualize Cameras with Open3D"
   ]
  },
  {
   "cell_type": "code",
   "execution_count": 8,
   "metadata": {},
   "outputs": [],
   "source": [
    "geometries = [o3d.geometry.TriangleMesh.create_coordinate_frame(size = 1.0)] # world axis coordinate\n",
    "\n",
    "for pose in P_absolute[::7]: # downsampled visualization\n",
    "    geometries.append(o3d.geometry.LineSet.create_camera_visualization(1920, 1080, camera_matrix, pose, scale = 0.1))\n",
    "\n",
    "o3d.visualization.draw_geometries(geometries)"
   ]
  }
 ],
 "metadata": {
  "kernelspec": {
   "display_name": "Python 3.9.7 ('base')",
   "language": "python",
   "name": "python3"
  },
  "language_info": {
   "codemirror_mode": {
    "name": "ipython",
    "version": 3
   },
   "file_extension": ".py",
   "mimetype": "text/x-python",
   "name": "python",
   "nbconvert_exporter": "python",
   "pygments_lexer": "ipython3",
   "version": "3.9.7"
  },
  "orig_nbformat": 4,
  "vscode": {
   "interpreter": {
    "hash": "ad2bdc8ecc057115af97d19610ffacc2b4e99fae6737bb82f5d7fb13d2f2c186"
   }
  }
 },
 "nbformat": 4,
 "nbformat_minor": 2
}
